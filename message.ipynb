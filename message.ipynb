{
  "cells": [
    {
      "cell_type": "code",
      "execution_count": null,
      "metadata": {},
      "outputs": [],
      "source": [
        "from flask_sqlalchemy import *\n",
        "import json\n",
        "import sqlite3\n",
        "with open(\"config.json\") as f:\n",
        "    par=json.load(f)['params']\n",
        "\n",
        "    con=sqlite3.connect(par['db_uri'])\n",
        "    cur=con.cursor()\n",
        "    cur.execute(\"SELECT name FROM sqlite_master WHERE type='table';\")\n",
        "    for table in cur.fetchall():\n",
        "        print(table[0])"
      ]
    },
    {
      "cell_type": "code",
      "execution_count": null,
      "metadata": {},
      "outputs": [],
      "source": [
        "import secrets\n",
        "print(secrets.token_hex(16))"
      ]
    }
  ],
  "metadata": {
    "anaconda-cloud": {},
    "kernelspec": {
      "display_name": "Python 3",
      "language": "python",
      "name": "python3"
    },
    "language_info": {
      "codemirror_mode": {
        "name": "ipython",
        "version": 3
      },
      "file_extension": ".py",
      "mimetype": "text/x-python",
      "name": "python",
      "nbconvert_exporter": "python",
      "pygments_lexer": "ipython3",
      "version": "3.6.1"
    }
  },
  "nbformat": 4,
  "nbformat_minor": 4
}
